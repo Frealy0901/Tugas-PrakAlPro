{
 "cells": [
  {
   "cell_type": "code",
   "execution_count": 1,
   "id": "6066f8c9",
   "metadata": {},
   "outputs": [
    {
     "name": "stdout",
     "output_type": "stream",
     "text": [
      "Keuntungan dalam rupiah :  35000\n",
      "Keuntungan dalam persen :  5.384615384615385\n",
      "Keuntungan dalam rupiah jika dijual nanti :  30000\n",
      "Keuntungan dalam persen jika dijual nanti :  4.37956204379562\n",
      "Jumlah emas sekarang :  40\n"
     ]
    }
   ],
   "source": [
    "emas = 25\n",
    "harga_beli = 650000\n",
    "harga_skrg = 685000\n",
    "keuntungan = harga_skrg - harga_beli\n",
    "persen = keuntungan / harga_beli * 100\n",
    "emas_skrg = emas + 15\n",
    "harga_kmdian = 715000\n",
    "keuntungan2 = harga_kmdian - harga_skrg\n",
    "persen2 = keuntungan2 / harga_skrg * 100\n",
    "print('Keuntungan dalam rupiah : ',keuntungan)\n",
    "print('Keuntungan dalam persen : ',persen)\n",
    "print('Keuntungan dalam rupiah jika dijual nanti : ',keuntungan2)\n",
    "print('Keuntungan dalam persen jika dijual nanti : ',persen2)\n",
    "print('Jumlah emas sekarang : ',emas_skrg)\n",
    "\n"
   ]
  },
  {
   "cell_type": "code",
   "execution_count": null,
   "id": "d64061a0",
   "metadata": {},
   "outputs": [],
   "source": []
  }
 ],
 "metadata": {
  "kernelspec": {
   "display_name": "Python 3 (ipykernel)",
   "language": "python",
   "name": "python3"
  },
  "language_info": {
   "codemirror_mode": {
    "name": "ipython",
    "version": 3
   },
   "file_extension": ".py",
   "mimetype": "text/x-python",
   "name": "python",
   "nbconvert_exporter": "python",
   "pygments_lexer": "ipython3",
   "version": "3.11.5"
  }
 },
 "nbformat": 4,
 "nbformat_minor": 5
}
